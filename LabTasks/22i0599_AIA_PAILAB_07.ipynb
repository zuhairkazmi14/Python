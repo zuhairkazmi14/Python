{
 "cells": [
  {
   "cell_type": "markdown",
   "metadata": {},
   "source": [
    "# Statistics with Python"
   ]
  },
  {
   "cell_type": "markdown",
   "metadata": {},
   "source": [
    "## Measures of dispersion or variability\n",
    "\n",
    "\n",
    "**Dispersion** is an indicator of how far away from the center, we can find the data values. The most common measures of dispersion are **variance**, **standard deviation** and **interquartile range (IQR)**. **Variance** is the standard measure of spread. The **standard deviation** is the square root of the variance. The **variance** and **standard deviation** are two useful measures of spread. \n",
    "\n",
    "\n",
    "\n",
    "### Variance\n",
    "\n",
    "-\tVariance measures the dispersion of a set of data points around their mean value.\n",
    "-\tIt is the mean of the squares of the individual deviations.\n",
    "-\tVariance gives results in the original units squared.\n",
    "\n",
    "\n",
    "\n",
    "### Standard deviation\n",
    "\n",
    "-\tStandard deviation is the most common used measure of variability.\n",
    "-\tIt is the square-root of the variance.\n",
    "-\tFor Normally distributed data, approximately 95% of the values lie within 2 s.d. of the mean. \n",
    "-\tStandard deviation gives results in the original units.\n",
    "\n",
    "\n",
    "### Coefficient of Variation (CV)\n",
    "\n",
    "-\tCoefficient of Variation (CV) is equal to the standard deviation divided by the mean.\n",
    "-\tIt is also known as `relative standard deviation`.\n",
    "\n",
    "\n",
    "### IQR (Interquartile range)\n",
    "\n",
    "-\tA third measure of spread is the **interquartile range (IQR)**.\n",
    "-\tThe IQR is calculated using the boundaries of data situated between the 1st and the 3rd quartiles. \n",
    "-\tThe interquartile range (IQR) can be calculated as follows:-\n",
    "       IQR = Q3 – Q1\n",
    "-\tIn the same way that the median is more robust than the mean, the IQR is a more robust measure of spread than variance and standard deviation and should therefore be preferred for small or asymmetrical distributions. \n",
    "-\tIt is a robust measure of spread.\n",
    "\n",
    "\n",
    "\n",
    "### Measures of shape\n",
    "\n",
    "Now, we will take a look at measures of shape of distribution. There are two statistical measures that can tell us about the shape of the distribution. These measures are **skewness** and **kurtosis**. These measures can be used to convey information about the shape of the distribution of the dataset.\n",
    "\n",
    "\n",
    "### Skewness\n",
    "-\t**Skewness** is a measure of a distribution's symmetry or more precisely lack of symmetry. \n",
    "-\tIt is used to mean the absence of symmetry from the mean of the dataset. \n",
    "-\tIt is a characteristic of the deviation from the mean. \n",
    "-\tIt is used to indicate the shape of the distribution of data.\n",
    "\n",
    "\n",
    "#### Negative skewness\n",
    "\n",
    "-\tNegative values for skewness indicate negative skewness. \n",
    "-\tIn this case, the data are skewed or tail to left. \n",
    "-\tBy skewed left, we mean that the left tail is long relative to the right tail. \n",
    "-\tThe data values may extend further to the left but concentrated in the right. \n",
    "-\tSo, there is a long tail and distortion is caused by extremely small values which pull the mean downward so that it is less than the median. \n",
    "-\tHence, in this case we have\n",
    "      **Mean < Median < Mode**\n",
    "      \n",
    "\n",
    "#### Zero skewness\n",
    "\n",
    "-\tZero skewness means skewness value of zero. \n",
    "-\tIt means the dataset is symmetrical. \n",
    "-\tA data set is symmetrical if it looks the same to the left and right to the center point. \n",
    "-\tThe dataset looks bell shaped or symmetrical. \n",
    "-\tA perfectly symmetrical data set will have a skewness of zero. \n",
    "-\tSo, the normal distribution which is perfectly symmetrical has a skewness of 0. \n",
    "-\tSo, in this case, we have\n",
    "      **Mean = Median = Mode**\n",
    "      \n",
    "\n",
    "#### Positive skewness\n",
    "\n",
    "-\tPositive values for skewness indicate positive skewness. \n",
    "-\tThe dataset are skewed or tail to right. \n",
    "-\tBy skewed right, we mean that the right tail is long relative to the left tail. \n",
    "-\tThe data values are concentrated in the right. \n",
    "-\tSo, there is a long tail to the right that is caused by extremely large values which pull the mean upward so that it is greater than the median. \n",
    "-\tSo, we have\n",
    "       **Mean > Median > Mode**\n",
    "       \n",
    "\n",
    "#### Reference range on skewness values\n",
    "\n",
    "The rule of thumb for skewness values are:\n",
    "\n",
    "-\tIf the skewness is between -0.5 and 0.5, the data are fairly symmetrical.\n",
    "-\tIf the skewness is between -1 and – 0.5 or between 0.5 and 1, the data are moderately skewed.\n",
    "-\tIf the skewness is less than -1 or greater than 1, the data are highly skewed.\n"
   ]
  },
  {
   "cell_type": "markdown",
   "metadata": {},
   "source": [
    "##  Import libraries"
   ]
  },
  {
   "cell_type": "code",
   "execution_count": 1,
   "metadata": {},
   "outputs": [],
   "source": [
    "import pandas as pd\n",
    "import numpy as np\n",
    "import matplotlib.pyplot as plt\n",
    "import seaborn as sns\n",
    "%matplotlib inline"
   ]
  },
  {
   "cell_type": "markdown",
   "metadata": {},
   "source": [
    "### Ignore warnings"
   ]
  },
  {
   "cell_type": "code",
   "execution_count": 2,
   "metadata": {},
   "outputs": [],
   "source": [
    "import warnings\n",
    "warnings.filterwarnings('ignore')"
   ]
  },
  {
   "cell_type": "markdown",
   "metadata": {},
   "source": [
    "# Lab Tasks\n",
    "1. Read file Match.csv"
   ]
  },
  {
   "cell_type": "code",
   "execution_count": 44,
   "metadata": {},
   "outputs": [
    {
     "data": {
      "text/html": [
       "<div>\n",
       "<style scoped>\n",
       "    .dataframe tbody tr th:only-of-type {\n",
       "        vertical-align: middle;\n",
       "    }\n",
       "\n",
       "    .dataframe tbody tr th {\n",
       "        vertical-align: top;\n",
       "    }\n",
       "\n",
       "    .dataframe thead th {\n",
       "        text-align: right;\n",
       "    }\n",
       "</style>\n",
       "<table border=\"1\" class=\"dataframe\">\n",
       "  <thead>\n",
       "    <tr style=\"text-align: right;\">\n",
       "      <th></th>\n",
       "      <th>Match_Id</th>\n",
       "      <th>Match_Date</th>\n",
       "      <th>Team_Name_Id</th>\n",
       "      <th>Opponent_Team_Id</th>\n",
       "      <th>Season_Id</th>\n",
       "      <th>Venue_Name</th>\n",
       "      <th>Toss_Winner_Id</th>\n",
       "      <th>Toss_Decision</th>\n",
       "      <th>IS_Superover</th>\n",
       "      <th>IS_Result</th>\n",
       "      <th>Is_DuckWorthLewis</th>\n",
       "      <th>Win_Type</th>\n",
       "      <th>Won_By</th>\n",
       "      <th>Match_Winner_Id</th>\n",
       "      <th>Man_Of_The_Match_Id</th>\n",
       "      <th>First_Umpire_Id</th>\n",
       "      <th>Second_Umpire_Id</th>\n",
       "      <th>City_Name</th>\n",
       "      <th>Host_Country</th>\n",
       "    </tr>\n",
       "  </thead>\n",
       "  <tbody>\n",
       "    <tr>\n",
       "      <th>0</th>\n",
       "      <td>335987</td>\n",
       "      <td>18-Apr-08</td>\n",
       "      <td>2</td>\n",
       "      <td>1</td>\n",
       "      <td>1</td>\n",
       "      <td>M Chinnaswamy Stadium</td>\n",
       "      <td>2</td>\n",
       "      <td>field</td>\n",
       "      <td>0</td>\n",
       "      <td>1</td>\n",
       "      <td>0</td>\n",
       "      <td>by runs</td>\n",
       "      <td>140.0</td>\n",
       "      <td>1.0</td>\n",
       "      <td>2.0</td>\n",
       "      <td>470</td>\n",
       "      <td>477</td>\n",
       "      <td>Bangalore</td>\n",
       "      <td>India</td>\n",
       "    </tr>\n",
       "    <tr>\n",
       "      <th>1</th>\n",
       "      <td>335988</td>\n",
       "      <td>19-Apr-08</td>\n",
       "      <td>4</td>\n",
       "      <td>3</td>\n",
       "      <td>1</td>\n",
       "      <td>Punjab Cricket Association Stadium, Mohali</td>\n",
       "      <td>3</td>\n",
       "      <td>bat</td>\n",
       "      <td>0</td>\n",
       "      <td>1</td>\n",
       "      <td>0</td>\n",
       "      <td>by runs</td>\n",
       "      <td>33.0</td>\n",
       "      <td>3.0</td>\n",
       "      <td>19.0</td>\n",
       "      <td>471</td>\n",
       "      <td>487</td>\n",
       "      <td>Chandigarh</td>\n",
       "      <td>India</td>\n",
       "    </tr>\n",
       "    <tr>\n",
       "      <th>2</th>\n",
       "      <td>335989</td>\n",
       "      <td>19-Apr-08</td>\n",
       "      <td>6</td>\n",
       "      <td>5</td>\n",
       "      <td>1</td>\n",
       "      <td>Feroz Shah Kotla</td>\n",
       "      <td>5</td>\n",
       "      <td>bat</td>\n",
       "      <td>0</td>\n",
       "      <td>1</td>\n",
       "      <td>0</td>\n",
       "      <td>by wickets</td>\n",
       "      <td>9.0</td>\n",
       "      <td>6.0</td>\n",
       "      <td>90.0</td>\n",
       "      <td>472</td>\n",
       "      <td>512</td>\n",
       "      <td>Delhi</td>\n",
       "      <td>India</td>\n",
       "    </tr>\n",
       "    <tr>\n",
       "      <th>3</th>\n",
       "      <td>335990</td>\n",
       "      <td>20-Apr-08</td>\n",
       "      <td>7</td>\n",
       "      <td>2</td>\n",
       "      <td>1</td>\n",
       "      <td>Wankhede Stadium</td>\n",
       "      <td>7</td>\n",
       "      <td>bat</td>\n",
       "      <td>0</td>\n",
       "      <td>1</td>\n",
       "      <td>0</td>\n",
       "      <td>by wickets</td>\n",
       "      <td>5.0</td>\n",
       "      <td>2.0</td>\n",
       "      <td>11.0</td>\n",
       "      <td>473</td>\n",
       "      <td>476</td>\n",
       "      <td>Mumbai</td>\n",
       "      <td>India</td>\n",
       "    </tr>\n",
       "    <tr>\n",
       "      <th>4</th>\n",
       "      <td>335991</td>\n",
       "      <td>20-Apr-08</td>\n",
       "      <td>1</td>\n",
       "      <td>8</td>\n",
       "      <td>1</td>\n",
       "      <td>Eden Gardens</td>\n",
       "      <td>8</td>\n",
       "      <td>bat</td>\n",
       "      <td>0</td>\n",
       "      <td>1</td>\n",
       "      <td>0</td>\n",
       "      <td>by wickets</td>\n",
       "      <td>5.0</td>\n",
       "      <td>1.0</td>\n",
       "      <td>4.0</td>\n",
       "      <td>474</td>\n",
       "      <td>486</td>\n",
       "      <td>Kolkata</td>\n",
       "      <td>India</td>\n",
       "    </tr>\n",
       "    <tr>\n",
       "      <th>...</th>\n",
       "      <td>...</td>\n",
       "      <td>...</td>\n",
       "      <td>...</td>\n",
       "      <td>...</td>\n",
       "      <td>...</td>\n",
       "      <td>...</td>\n",
       "      <td>...</td>\n",
       "      <td>...</td>\n",
       "      <td>...</td>\n",
       "      <td>...</td>\n",
       "      <td>...</td>\n",
       "      <td>...</td>\n",
       "      <td>...</td>\n",
       "      <td>...</td>\n",
       "      <td>...</td>\n",
       "      <td>...</td>\n",
       "      <td>...</td>\n",
       "      <td>...</td>\n",
       "      <td>...</td>\n",
       "    </tr>\n",
       "    <tr>\n",
       "      <th>572</th>\n",
       "      <td>981016</td>\n",
       "      <td>22-May-16</td>\n",
       "      <td>6</td>\n",
       "      <td>2</td>\n",
       "      <td>9</td>\n",
       "      <td>Shaheed Veer Narayan Singh International Stadium</td>\n",
       "      <td>2</td>\n",
       "      <td>field</td>\n",
       "      <td>0</td>\n",
       "      <td>1</td>\n",
       "      <td>0</td>\n",
       "      <td>by wickets</td>\n",
       "      <td>6.0</td>\n",
       "      <td>2.0</td>\n",
       "      <td>8.0</td>\n",
       "      <td>511</td>\n",
       "      <td>497</td>\n",
       "      <td>Raipur</td>\n",
       "      <td>India</td>\n",
       "    </tr>\n",
       "    <tr>\n",
       "      <th>573</th>\n",
       "      <td>981018</td>\n",
       "      <td>24-May-16</td>\n",
       "      <td>13</td>\n",
       "      <td>2</td>\n",
       "      <td>9</td>\n",
       "      <td>M Chinnaswamy Stadium</td>\n",
       "      <td>2</td>\n",
       "      <td>field</td>\n",
       "      <td>0</td>\n",
       "      <td>1</td>\n",
       "      <td>0</td>\n",
       "      <td>by wickets</td>\n",
       "      <td>4.0</td>\n",
       "      <td>2.0</td>\n",
       "      <td>110.0</td>\n",
       "      <td>495</td>\n",
       "      <td>482</td>\n",
       "      <td>Bangalore</td>\n",
       "      <td>India</td>\n",
       "    </tr>\n",
       "    <tr>\n",
       "      <th>574</th>\n",
       "      <td>981020</td>\n",
       "      <td>25-May-16</td>\n",
       "      <td>11</td>\n",
       "      <td>1</td>\n",
       "      <td>9</td>\n",
       "      <td>Feroz Shah Kotla</td>\n",
       "      <td>1</td>\n",
       "      <td>field</td>\n",
       "      <td>0</td>\n",
       "      <td>1</td>\n",
       "      <td>0</td>\n",
       "      <td>by runs</td>\n",
       "      <td>22.0</td>\n",
       "      <td>11.0</td>\n",
       "      <td>163.0</td>\n",
       "      <td>481</td>\n",
       "      <td>499</td>\n",
       "      <td>Delhi</td>\n",
       "      <td>India</td>\n",
       "    </tr>\n",
       "    <tr>\n",
       "      <th>575</th>\n",
       "      <td>981022</td>\n",
       "      <td>27-May-16</td>\n",
       "      <td>13</td>\n",
       "      <td>11</td>\n",
       "      <td>9</td>\n",
       "      <td>Feroz Shah Kotla</td>\n",
       "      <td>11</td>\n",
       "      <td>field</td>\n",
       "      <td>0</td>\n",
       "      <td>1</td>\n",
       "      <td>0</td>\n",
       "      <td>by wickets</td>\n",
       "      <td>4.0</td>\n",
       "      <td>11.0</td>\n",
       "      <td>187.0</td>\n",
       "      <td>481</td>\n",
       "      <td>498</td>\n",
       "      <td>Delhi</td>\n",
       "      <td>India</td>\n",
       "    </tr>\n",
       "    <tr>\n",
       "      <th>576</th>\n",
       "      <td>981024</td>\n",
       "      <td>29-May-16</td>\n",
       "      <td>2</td>\n",
       "      <td>11</td>\n",
       "      <td>9</td>\n",
       "      <td>M Chinnaswamy Stadium</td>\n",
       "      <td>11</td>\n",
       "      <td>bat</td>\n",
       "      <td>0</td>\n",
       "      <td>1</td>\n",
       "      <td>0</td>\n",
       "      <td>by runs</td>\n",
       "      <td>8.0</td>\n",
       "      <td>11.0</td>\n",
       "      <td>385.0</td>\n",
       "      <td>482</td>\n",
       "      <td>497</td>\n",
       "      <td>Bangalore</td>\n",
       "      <td>India</td>\n",
       "    </tr>\n",
       "  </tbody>\n",
       "</table>\n",
       "<p>577 rows × 19 columns</p>\n",
       "</div>"
      ],
      "text/plain": [
       "     Match_Id Match_Date  Team_Name_Id  Opponent_Team_Id  Season_Id  \\\n",
       "0      335987  18-Apr-08             2                 1          1   \n",
       "1      335988  19-Apr-08             4                 3          1   \n",
       "2      335989  19-Apr-08             6                 5          1   \n",
       "3      335990  20-Apr-08             7                 2          1   \n",
       "4      335991  20-Apr-08             1                 8          1   \n",
       "..        ...        ...           ...               ...        ...   \n",
       "572    981016  22-May-16             6                 2          9   \n",
       "573    981018  24-May-16            13                 2          9   \n",
       "574    981020  25-May-16            11                 1          9   \n",
       "575    981022  27-May-16            13                11          9   \n",
       "576    981024  29-May-16             2                11          9   \n",
       "\n",
       "                                           Venue_Name  Toss_Winner_Id  \\\n",
       "0                               M Chinnaswamy Stadium               2   \n",
       "1          Punjab Cricket Association Stadium, Mohali               3   \n",
       "2                                    Feroz Shah Kotla               5   \n",
       "3                                    Wankhede Stadium               7   \n",
       "4                                        Eden Gardens               8   \n",
       "..                                                ...             ...   \n",
       "572  Shaheed Veer Narayan Singh International Stadium               2   \n",
       "573                             M Chinnaswamy Stadium               2   \n",
       "574                                  Feroz Shah Kotla               1   \n",
       "575                                  Feroz Shah Kotla              11   \n",
       "576                             M Chinnaswamy Stadium              11   \n",
       "\n",
       "    Toss_Decision  IS_Superover  IS_Result  Is_DuckWorthLewis    Win_Type  \\\n",
       "0           field             0          1                  0     by runs   \n",
       "1             bat             0          1                  0     by runs   \n",
       "2             bat             0          1                  0  by wickets   \n",
       "3             bat             0          1                  0  by wickets   \n",
       "4             bat             0          1                  0  by wickets   \n",
       "..            ...           ...        ...                ...         ...   \n",
       "572         field             0          1                  0  by wickets   \n",
       "573         field             0          1                  0  by wickets   \n",
       "574         field             0          1                  0     by runs   \n",
       "575         field             0          1                  0  by wickets   \n",
       "576           bat             0          1                  0     by runs   \n",
       "\n",
       "     Won_By  Match_Winner_Id  Man_Of_The_Match_Id  First_Umpire_Id  \\\n",
       "0     140.0              1.0                  2.0              470   \n",
       "1      33.0              3.0                 19.0              471   \n",
       "2       9.0              6.0                 90.0              472   \n",
       "3       5.0              2.0                 11.0              473   \n",
       "4       5.0              1.0                  4.0              474   \n",
       "..      ...              ...                  ...              ...   \n",
       "572     6.0              2.0                  8.0              511   \n",
       "573     4.0              2.0                110.0              495   \n",
       "574    22.0             11.0                163.0              481   \n",
       "575     4.0             11.0                187.0              481   \n",
       "576     8.0             11.0                385.0              482   \n",
       "\n",
       "     Second_Umpire_Id   City_Name Host_Country  \n",
       "0                 477   Bangalore        India  \n",
       "1                 487  Chandigarh        India  \n",
       "2                 512       Delhi        India  \n",
       "3                 476      Mumbai        India  \n",
       "4                 486     Kolkata        India  \n",
       "..                ...         ...          ...  \n",
       "572               497      Raipur        India  \n",
       "573               482   Bangalore        India  \n",
       "574               499       Delhi        India  \n",
       "575               498       Delhi        India  \n",
       "576               497   Bangalore        India  \n",
       "\n",
       "[577 rows x 19 columns]"
      ]
     },
     "execution_count": 44,
     "metadata": {},
     "output_type": "execute_result"
    }
   ],
   "source": [
    "file=pd.read_csv(r\"C:\\Users\\zuhai\\Downloads\\Match - Match.csv\")\n",
    "file"
   ]
  },
  {
   "cell_type": "markdown",
   "metadata": {},
   "source": [
    "2. View summary of dataset"
   ]
  },
  {
   "cell_type": "code",
   "execution_count": 46,
   "metadata": {},
   "outputs": [
    {
     "name": "stdout",
     "output_type": "stream",
     "text": [
      "<class 'pandas.core.frame.DataFrame'>\n",
      "RangeIndex: 577 entries, 0 to 576\n",
      "Data columns (total 19 columns):\n",
      " #   Column               Non-Null Count  Dtype  \n",
      "---  ------               --------------  -----  \n",
      " 0   Match_Id             577 non-null    int64  \n",
      " 1   Match_Date           577 non-null    object \n",
      " 2   Team_Name_Id         577 non-null    int64  \n",
      " 3   Opponent_Team_Id     577 non-null    int64  \n",
      " 4   Season_Id            577 non-null    int64  \n",
      " 5   Venue_Name           577 non-null    object \n",
      " 6   Toss_Winner_Id       577 non-null    int64  \n",
      " 7   Toss_Decision        577 non-null    object \n",
      " 8   IS_Superover         577 non-null    int64  \n",
      " 9   IS_Result            577 non-null    int64  \n",
      " 10  Is_DuckWorthLewis    577 non-null    int64  \n",
      " 11  Win_Type             577 non-null    object \n",
      " 12  Won_By               568 non-null    float64\n",
      " 13  Match_Winner_Id      574 non-null    float64\n",
      " 14  Man_Of_The_Match_Id  574 non-null    float64\n",
      " 15  First_Umpire_Id      577 non-null    int64  \n",
      " 16  Second_Umpire_Id     577 non-null    int64  \n",
      " 17  City_Name            577 non-null    object \n",
      " 18  Host_Country         577 non-null    object \n",
      "dtypes: float64(3), int64(10), object(6)\n",
      "memory usage: 85.8+ KB\n"
     ]
    }
   ],
   "source": [
    "file.info()"
   ]
  },
  {
   "cell_type": "markdown",
   "metadata": {},
   "source": [
    "3. Check if there are any missing values"
   ]
  },
  {
   "cell_type": "code",
   "execution_count": 47,
   "metadata": {},
   "outputs": [
    {
     "data": {
      "text/plain": [
       "Match_Id               0\n",
       "Match_Date             0\n",
       "Team_Name_Id           0\n",
       "Opponent_Team_Id       0\n",
       "Season_Id              0\n",
       "Venue_Name             0\n",
       "Toss_Winner_Id         0\n",
       "Toss_Decision          0\n",
       "IS_Superover           0\n",
       "IS_Result              0\n",
       "Is_DuckWorthLewis      0\n",
       "Win_Type               0\n",
       "Won_By                 9\n",
       "Match_Winner_Id        3\n",
       "Man_Of_The_Match_Id    3\n",
       "First_Umpire_Id        0\n",
       "Second_Umpire_Id       0\n",
       "City_Name              0\n",
       "Host_Country           0\n",
       "dtype: int64"
      ]
     },
     "execution_count": 47,
     "metadata": {},
     "output_type": "execute_result"
    }
   ],
   "source": [
    "file.isnull().sum()"
   ]
  },
  {
   "cell_type": "markdown",
   "metadata": {},
   "source": [
    "4. Describe dataset"
   ]
  },
  {
   "cell_type": "code",
   "execution_count": 48,
   "metadata": {},
   "outputs": [
    {
     "data": {
      "text/html": [
       "<div>\n",
       "<style scoped>\n",
       "    .dataframe tbody tr th:only-of-type {\n",
       "        vertical-align: middle;\n",
       "    }\n",
       "\n",
       "    .dataframe tbody tr th {\n",
       "        vertical-align: top;\n",
       "    }\n",
       "\n",
       "    .dataframe thead th {\n",
       "        text-align: right;\n",
       "    }\n",
       "</style>\n",
       "<table border=\"1\" class=\"dataframe\">\n",
       "  <thead>\n",
       "    <tr style=\"text-align: right;\">\n",
       "      <th></th>\n",
       "      <th>Match_Id</th>\n",
       "      <th>Team_Name_Id</th>\n",
       "      <th>Opponent_Team_Id</th>\n",
       "      <th>Season_Id</th>\n",
       "      <th>Toss_Winner_Id</th>\n",
       "      <th>IS_Superover</th>\n",
       "      <th>IS_Result</th>\n",
       "      <th>Is_DuckWorthLewis</th>\n",
       "      <th>Won_By</th>\n",
       "      <th>Match_Winner_Id</th>\n",
       "      <th>Man_Of_The_Match_Id</th>\n",
       "      <th>First_Umpire_Id</th>\n",
       "      <th>Second_Umpire_Id</th>\n",
       "    </tr>\n",
       "  </thead>\n",
       "  <tbody>\n",
       "    <tr>\n",
       "      <th>count</th>\n",
       "      <td>577.000000</td>\n",
       "      <td>577.000000</td>\n",
       "      <td>577.000000</td>\n",
       "      <td>577.000000</td>\n",
       "      <td>577.000000</td>\n",
       "      <td>577.000000</td>\n",
       "      <td>577.000000</td>\n",
       "      <td>577.000000</td>\n",
       "      <td>568.000000</td>\n",
       "      <td>574.000000</td>\n",
       "      <td>574.000000</td>\n",
       "      <td>577.000000</td>\n",
       "      <td>577.000000</td>\n",
       "    </tr>\n",
       "    <tr>\n",
       "      <th>mean</th>\n",
       "      <td>591635.963605</td>\n",
       "      <td>5.102253</td>\n",
       "      <td>5.211438</td>\n",
       "      <td>5.029463</td>\n",
       "      <td>5.192374</td>\n",
       "      <td>0.010399</td>\n",
       "      <td>0.994801</td>\n",
       "      <td>0.025997</td>\n",
       "      <td>17.350352</td>\n",
       "      <td>4.991289</td>\n",
       "      <td>139.782230</td>\n",
       "      <td>484.098787</td>\n",
       "      <td>495.155979</td>\n",
       "    </tr>\n",
       "    <tr>\n",
       "      <th>std</th>\n",
       "      <td>196366.642396</td>\n",
       "      <td>3.062703</td>\n",
       "      <td>3.024841</td>\n",
       "      <td>2.486247</td>\n",
       "      <td>3.024680</td>\n",
       "      <td>0.101530</td>\n",
       "      <td>0.071981</td>\n",
       "      <td>0.159263</td>\n",
       "      <td>21.908229</td>\n",
       "      <td>3.005218</td>\n",
       "      <td>117.304944</td>\n",
       "      <td>10.709012</td>\n",
       "      <td>12.353865</td>\n",
       "    </tr>\n",
       "    <tr>\n",
       "      <th>min</th>\n",
       "      <td>335987.000000</td>\n",
       "      <td>1.000000</td>\n",
       "      <td>1.000000</td>\n",
       "      <td>1.000000</td>\n",
       "      <td>1.000000</td>\n",
       "      <td>0.000000</td>\n",
       "      <td>0.000000</td>\n",
       "      <td>0.000000</td>\n",
       "      <td>1.000000</td>\n",
       "      <td>1.000000</td>\n",
       "      <td>1.000000</td>\n",
       "      <td>470.000000</td>\n",
       "      <td>471.000000</td>\n",
       "    </tr>\n",
       "    <tr>\n",
       "      <th>25%</th>\n",
       "      <td>419140.000000</td>\n",
       "      <td>3.000000</td>\n",
       "      <td>3.000000</td>\n",
       "      <td>3.000000</td>\n",
       "      <td>3.000000</td>\n",
       "      <td>0.000000</td>\n",
       "      <td>1.000000</td>\n",
       "      <td>0.000000</td>\n",
       "      <td>6.000000</td>\n",
       "      <td>3.000000</td>\n",
       "      <td>40.000000</td>\n",
       "      <td>475.000000</td>\n",
       "      <td>488.000000</td>\n",
       "    </tr>\n",
       "    <tr>\n",
       "      <th>50%</th>\n",
       "      <td>548353.000000</td>\n",
       "      <td>5.000000</td>\n",
       "      <td>5.000000</td>\n",
       "      <td>5.000000</td>\n",
       "      <td>5.000000</td>\n",
       "      <td>0.000000</td>\n",
       "      <td>1.000000</td>\n",
       "      <td>0.000000</td>\n",
       "      <td>8.000000</td>\n",
       "      <td>5.000000</td>\n",
       "      <td>105.500000</td>\n",
       "      <td>482.000000</td>\n",
       "      <td>493.000000</td>\n",
       "    </tr>\n",
       "    <tr>\n",
       "      <th>75%</th>\n",
       "      <td>734004.000000</td>\n",
       "      <td>7.000000</td>\n",
       "      <td>7.000000</td>\n",
       "      <td>7.000000</td>\n",
       "      <td>7.000000</td>\n",
       "      <td>0.000000</td>\n",
       "      <td>1.000000</td>\n",
       "      <td>0.000000</td>\n",
       "      <td>21.000000</td>\n",
       "      <td>7.000000</td>\n",
       "      <td>209.500000</td>\n",
       "      <td>493.000000</td>\n",
       "      <td>500.000000</td>\n",
       "    </tr>\n",
       "    <tr>\n",
       "      <th>max</th>\n",
       "      <td>981024.000000</td>\n",
       "      <td>13.000000</td>\n",
       "      <td>13.000000</td>\n",
       "      <td>9.000000</td>\n",
       "      <td>13.000000</td>\n",
       "      <td>1.000000</td>\n",
       "      <td>1.000000</td>\n",
       "      <td>1.000000</td>\n",
       "      <td>144.000000</td>\n",
       "      <td>13.000000</td>\n",
       "      <td>460.000000</td>\n",
       "      <td>511.000000</td>\n",
       "      <td>521.000000</td>\n",
       "    </tr>\n",
       "  </tbody>\n",
       "</table>\n",
       "</div>"
      ],
      "text/plain": [
       "            Match_Id  Team_Name_Id  Opponent_Team_Id   Season_Id  \\\n",
       "count     577.000000    577.000000        577.000000  577.000000   \n",
       "mean   591635.963605      5.102253          5.211438    5.029463   \n",
       "std    196366.642396      3.062703          3.024841    2.486247   \n",
       "min    335987.000000      1.000000          1.000000    1.000000   \n",
       "25%    419140.000000      3.000000          3.000000    3.000000   \n",
       "50%    548353.000000      5.000000          5.000000    5.000000   \n",
       "75%    734004.000000      7.000000          7.000000    7.000000   \n",
       "max    981024.000000     13.000000         13.000000    9.000000   \n",
       "\n",
       "       Toss_Winner_Id  IS_Superover   IS_Result  Is_DuckWorthLewis  \\\n",
       "count      577.000000    577.000000  577.000000         577.000000   \n",
       "mean         5.192374      0.010399    0.994801           0.025997   \n",
       "std          3.024680      0.101530    0.071981           0.159263   \n",
       "min          1.000000      0.000000    0.000000           0.000000   \n",
       "25%          3.000000      0.000000    1.000000           0.000000   \n",
       "50%          5.000000      0.000000    1.000000           0.000000   \n",
       "75%          7.000000      0.000000    1.000000           0.000000   \n",
       "max         13.000000      1.000000    1.000000           1.000000   \n",
       "\n",
       "           Won_By  Match_Winner_Id  Man_Of_The_Match_Id  First_Umpire_Id  \\\n",
       "count  568.000000       574.000000           574.000000       577.000000   \n",
       "mean    17.350352         4.991289           139.782230       484.098787   \n",
       "std     21.908229         3.005218           117.304944        10.709012   \n",
       "min      1.000000         1.000000             1.000000       470.000000   \n",
       "25%      6.000000         3.000000            40.000000       475.000000   \n",
       "50%      8.000000         5.000000           105.500000       482.000000   \n",
       "75%     21.000000         7.000000           209.500000       493.000000   \n",
       "max    144.000000        13.000000           460.000000       511.000000   \n",
       "\n",
       "       Second_Umpire_Id  \n",
       "count        577.000000  \n",
       "mean         495.155979  \n",
       "std           12.353865  \n",
       "min          471.000000  \n",
       "25%          488.000000  \n",
       "50%          493.000000  \n",
       "75%          500.000000  \n",
       "max          521.000000  "
      ]
     },
     "execution_count": 48,
     "metadata": {},
     "output_type": "execute_result"
    }
   ],
   "source": [
    "file.describe()"
   ]
  },
  {
   "cell_type": "markdown",
   "metadata": {},
   "source": [
    "5. Check and plot skewness (positive, negative, zero) of dataset on following columns (use mean ,median, mode)\n",
    "* Season_Id ^ Toss_Winner_Id\n",
    "* Match_Winner_Id + Won_By\n",
    "* Man_Of_The_Match_Id"
   ]
  },
  {
   "cell_type": "code",
   "execution_count": 49,
   "metadata": {},
   "outputs": [
    {
     "data": {
      "image/png": "[encoded data removed]",
      "text/plain": [
       "<Figure size 640x480 with 1 Axes>"
      ]
     },
     "metadata": {},
     "output_type": "display_data"
    },
    {
     "name": "stdout",
     "output_type": "stream",
     "text": [
      "Mean = 39331633615.64298\n",
      "Median = 512.0\n",
      "Mode = 0    1\n",
      "dtype: int64\n"
     ]
    }
   ],
   "source": [
    "power=file['Season_Id']**file['Toss_Winner_Id']\n",
    "Mean=power.mean()\n",
    "Median=power.median()\n",
    "Mode=power.mode()\n",
    "plt.boxplot(power)\n",
    "plt.show()\n",
    "#print(\"Median of S_Id\")\n",
    "\n",
    "\n",
    "\n",
    "print(\"Mean =\", Mean)\n",
    "print(\"Median =\", Median)\n",
    "print(\"Mode =\", Mode)\n"
   ]
  },
  {
   "cell_type": "code",
   "execution_count": 90,
   "metadata": {},
   "outputs": [
    {
     "name": "stdout",
     "output_type": "stream",
     "text": [
      "Positively Skewed\n"
     ]
    }
   ],
   "source": [
    "if Mean==Median==Mode:\n",
    "    print(\"Data is symmetric\")\n",
    "elif Mean<Median:\n",
    "    print(\"Negatively Skewed\")\n",
    "elif Mean>Median:\n",
    "    print(\"Positively Skewed\")\n",
    "else:\n",
    "    print(\"Error while extracting Data:\")\n"
   ]
  },
  {
   "cell_type": "code",
   "execution_count": 50,
   "metadata": {},
   "outputs": [
    {
     "data": {
      "image/png": "[encoded data removed]",
      "text/plain": [
       "<Figure size 640x480 with 1 Axes>"
      ]
     },
     "metadata": {},
     "output_type": "display_data"
    },
    {
     "name": "stdout",
     "output_type": "stream",
     "text": [
      "Mean = 39331633615.64298\n",
      "Median = 512.0\n",
      "Mode = 0    1\n",
      "dtype: int64\n"
     ]
    }
   ],
   "source": [
    "\n",
    "Sum=file['Match_Winner_Id']+file['Won_By']\n",
    "MeanOfSum=power.mean()\n",
    "MedianOfSum=power.median()\n",
    "ModeOfSum=power.mode()\n",
    "plt.boxplot(Sum)\n",
    "plt.show()\n",
    "\n",
    "print(\"Mean =\", MeanOfSum)\n",
    "print(\"Median =\", MedianOfSum)\n",
    "print(\"Mode =\", ModeOfSum)"
   ]
  },
  {
   "cell_type": "code",
   "execution_count": 91,
   "metadata": {},
   "outputs": [
    {
     "name": "stdout",
     "output_type": "stream",
     "text": [
      "Positively Skewed\n"
     ]
    }
   ],
   "source": [
    "if MeanOfSum==MedianOfSum==ModeOfSum:\n",
    "    print(\"Data is symmetric\")\n",
    "elif MeanOfSum<MedianOfSum:\n",
    "    print(\"Negatively Skewed\")\n",
    "elif MeanOfSum>MedianOfSum:\n",
    "    print(\"Positively Skewed\")\n",
    "else:\n",
    "    print(\"Error while extracting Data:\")\n"
   ]
  },
  {
   "cell_type": "code",
   "execution_count": 59,
   "metadata": {},
   "outputs": [
    {
     "data": {
      "image/png": "[encoded data removed]",
      "text/plain": [
       "<Figure size 640x480 with 1 Axes>"
      ]
     },
     "metadata": {},
     "output_type": "display_data"
    },
    {
     "name": "stdout",
     "output_type": "stream",
     "text": [
      "Mean = 139.7822299651568\n",
      "Median = 105.5\n",
      "Mode = 0    162.0\n",
      "Name: Man_Of_The_Match_Id, dtype: float64\n"
     ]
    }
   ],
   "source": [
    "Man=file[\"Man_Of_The_Match_Id\"]\n",
    "MeanOfMan=Man.mean()\n",
    "MedianOfMan=Man.median()\n",
    "ModeOfMan=Man.mode()\n",
    "plt.boxplot(Man)\n",
    "plt.show()\n",
    "print(\"Mean =\", MeanOfMan)\n",
    "print(\"Median =\", MedianOfMan)\n",
    "print(\"Mode =\", ModeOfMan)\n"
   ]
  },
  {
   "cell_type": "code",
   "execution_count": 92,
   "metadata": {},
   "outputs": [
    {
     "name": "stdout",
     "output_type": "stream",
     "text": [
      "Positively Skewed\n"
     ]
    }
   ],
   "source": [
    "if MeanOfMan==MedianOfMan==ModeOfMan:\n",
    "    print(\"Data is symmetric\")\n",
    "elif MeanOfMan<MedianOfMan:\n",
    "    print(\"Negatively Skewed\")\n",
    "elif MeanOfMan>MedianOfMan:\n",
    "    print(\"Positively Skewed\")\n",
    "else:\n",
    "    print(\"Error while extracting Data:\")\n"
   ]
  },
  {
   "cell_type": "markdown",
   "metadata": {},
   "source": [
    "6. Do computation of measures of dispersion or variability (min, max, range, varience, standard deviation, median Q2 or 50th percentile, 75th percentile and 25th percentile, interuartile range, draw box plot) for all of following columns\n",
    "\n",
    "* Season_Id\n",
    "* Toss_Winner_Id\n",
    "* Match_Winner_Id\n",
    "* Won_By\n",
    "* Man_Of_The_Match_Id"
   ]
  },
  {
   "cell_type": "code",
   "execution_count": 71,
   "metadata": {},
   "outputs": [
    {
     "name": "stdout",
     "output_type": "stream",
     "text": [
      "Min of Season 1\n",
      "Max of Season 9\n",
      "Var of Season 6.1814221066820485\n",
      "Standard Deviation of Season 2.4862465900795216\n",
      "Median of Season 5.0\n",
      "Q2 of Season 5.0\n",
      "50th percentile of Season 5.0\n",
      "75th percentile of Season 7.0\n",
      "25th percentile of Season 3.0\n",
      "InterQuartileRange of Season 4.0\n"
     ]
    },
    {
     "data": {
      "image/png": "[encoded data removed]",
      "text/plain": [
       "<Figure size 640x480 with 1 Axes>"
      ]
     },
     "metadata": {},
     "output_type": "display_data"
    }
   ],
   "source": [
    "#Season ID:\n",
    "print(\"Min of Season\",file[\"Season_Id\"].min())\n",
    "print(\"Max of Season\",file[\"Season_Id\"].max())\n",
    "print(\"Var of Season\",file[\"Season_Id\"].var())\n",
    "print(\"Standard Deviation of Season\",file[\"Season_Id\"].std())\n",
    "print(\"Median of Season\",file[\"Season_Id\"].median())\n",
    "print(\"Q2 of Season\",file[\"Season_Id\"].quantile(.50))\n",
    "print(\"50th percentile of Season\",file[\"Season_Id\"].quantile(.50))\n",
    "print(\"75th percentile of Season\",file[\"Season_Id\"].quantile(.75))\n",
    "print(\"25th percentile of Season\",file[\"Season_Id\"].quantile(.25))\n",
    "print(\"InterQuartileRange of Season\",file[\"Season_Id\"].quantile(.75)-file[\"Season_Id\"].quantile(.25))\n",
    "\n",
    "plt.boxplot(file[\"Season_Id\"])\n",
    "plt.show()\n",
    "\n",
    "\n"
   ]
  },
  {
   "cell_type": "code",
   "execution_count": 70,
   "metadata": {},
   "outputs": [
    {
     "name": "stdout",
     "output_type": "stream",
     "text": [
      "Min of Toss_Winner_Id 1\n",
      "Max of Toss_Winner_Id 13\n",
      "Var of Toss_Winner_Id 9.148691748507604\n",
      "Standard Deviation of Toss_Winner_Id 3.0246804374193985\n",
      "Median of Toss_Winner_Id 5.0\n",
      "Q2 of Toss_Winner_Id 5.0\n",
      "50th percentile of Toss_Winner_Id 5.0\n",
      "75th percentile of Toss_Winner_Id 7.0\n",
      "25th percentile of Toss_Winner_Id 3.0\n",
      "InterQuartileRange of Toss_Winner_Id 4.0\n"
     ]
    },
    {
     "data": {
      "image/png": "[encoded data removed]",
      "text/plain": [
       "<Figure size 640x480 with 1 Axes>"
      ]
     },
     "metadata": {},
     "output_type": "display_data"
    }
   ],
   "source": [
    "#Toss_Winner_Id\n",
    "print(\"Min of Toss_Winner_Id\",file[\"Toss_Winner_Id\"].min())\n",
    "print(\"Max of Toss_Winner_Id\",file[\"Toss_Winner_Id\"].max())\n",
    "print(\"Var of Toss_Winner_Id\",file[\"Toss_Winner_Id\"].var())\n",
    "print(\"Standard Deviation of Toss_Winner_Id\",file[\"Toss_Winner_Id\"].std())\n",
    "print(\"Median of Toss_Winner_Id\",file[\"Toss_Winner_Id\"].median())\n",
    "print(\"Q2 of Toss_Winner_Id\",file[\"Toss_Winner_Id\"].quantile(.50))\n",
    "print(\"50th percentile of Toss_Winner_Id\",file[\"Toss_Winner_Id\"].quantile(.50))\n",
    "print(\"75th percentile of Toss_Winner_Id\",file[\"Toss_Winner_Id\"].quantile(.75))\n",
    "print(\"25th percentile of Toss_Winner_Id\",file[\"Toss_Winner_Id\"].quantile(.25))\n",
    "print(\"InterQuartileRange of Toss_Winner_Id\",file[\"Toss_Winner_Id\"].quantile(.75)-file[\"Toss_Winner_Id\"].quantile(.25))\n",
    "\n",
    "plt.boxplot(file[\"Toss_Winner_Id\"])\n",
    "plt.show()\n",
    "\n"
   ]
  },
  {
   "cell_type": "code",
   "execution_count": 76,
   "metadata": {},
   "outputs": [
    {
     "name": "stdout",
     "output_type": "stream",
     "text": [
      "Min of Match_Winner_Id 1.0\n",
      "Max of Match_Winner_Id 13.0\n",
      "Var of Match_Winner_Id 9.03133760208208\n",
      "Standard Deviation of Match_Winner_Id 3.0052183950724913\n",
      "Median of Match_Winner_Id 5.0\n",
      "Q2 of Match_Winner_Id 5.0\n",
      "50th percentile of Match_Winner_Id 5.0\n",
      "75th percentile of Match_Winner_Id 7.0\n",
      "25th percentile of Match_Winner_Id 3.0\n",
      "InterQuartileRange of Match_Winner_Id 4.0\n"
     ]
    },
    {
     "data": {
      "image/png": "[encoded data removed]",
      "text/plain": [
       "<Figure size 640x480 with 1 Axes>"
      ]
     },
     "metadata": {},
     "output_type": "display_data"
    }
   ],
   "source": [
    "#Match_Winner_Id\n",
    "print(\"Min of Match_Winner_Id\",file[\"Match_Winner_Id\"].min())\n",
    "print(\"Max of Match_Winner_Id\",file[\"Match_Winner_Id\"].max())\n",
    "print(\"Var of Match_Winner_Id\",file[\"Match_Winner_Id\"].var())\n",
    "print(\"Standard Deviation of Match_Winner_Id\",file[\"Match_Winner_Id\"].std())\n",
    "print(\"Median of Match_Winner_Id\",file[\"Match_Winner_Id\"].median())\n",
    "print(\"Q2 of Match_Winner_Id\",file[\"Match_Winner_Id\"].quantile(.50))\n",
    "print(\"50th percentile of Match_Winner_Id\",file[\"Match_Winner_Id\"].quantile(.50))\n",
    "print(\"75th percentile of Match_Winner_Id\",file[\"Match_Winner_Id\"].quantile(.75))\n",
    "print(\"25th percentile of Match_Winner_Id\",file[\"Match_Winner_Id\"].quantile(.25))\n",
    "print(\"InterQuartileRange of Match_Winner_Id\",file[\"Match_Winner_Id\"].quantile(.75)-file[\"Match_Winner_Id\"].quantile(.25))\n",
    "\n",
    "plt.boxplot(file[\"Match_Winner_Id\"])\n",
    "plt.show()\n",
    "\n"
   ]
  },
  {
   "cell_type": "code",
   "execution_count": 77,
   "metadata": {},
   "outputs": [
    {
     "name": "stdout",
     "output_type": "stream",
     "text": [
      "Min of Won_By 1.0\n",
      "Max of Won_By 144.0\n",
      "Var of Won_By 479.97051133964317\n",
      "Standard Deviation of Won_By 21.908229306350687\n",
      "Median of Won_By 8.0\n",
      "Q2 of Won_By 8.0\n",
      "50th percentile of Won_By 8.0\n",
      "75th percentile of Won_By 21.0\n",
      "25th percentile of Won_By 6.0\n",
      "InterQuartileRange of Won_By 15.0\n"
     ]
    },
    {
     "data": {
      "image/png": "[encoded data removed]",
      "text/plain": [
       "<Figure size 640x480 with 1 Axes>"
      ]
     },
     "metadata": {},
     "output_type": "display_data"
    }
   ],
   "source": [
    "#Won_By\n",
    "print(\"Min of Won_By\",file[\"Won_By\"].min())\n",
    "print(\"Max of Won_By\",file[\"Won_By\"].max())\n",
    "print(\"Var of Won_By\",file[\"Won_By\"].var())\n",
    "print(\"Standard Deviation of Won_By\",file[\"Won_By\"].std())\n",
    "print(\"Median of Won_By\",file[\"Won_By\"].median())\n",
    "print(\"Q2 of Won_By\",file[\"Won_By\"].quantile(.50))\n",
    "print(\"50th percentile of Won_By\",file[\"Won_By\"].quantile(.50))\n",
    "print(\"75th percentile of Won_By\",file[\"Won_By\"].quantile(.75))\n",
    "print(\"25th percentile of Won_By\",file[\"Won_By\"].quantile(.25))\n",
    "print(\"InterQuartileRange of Won_By\",file[\"Won_By\"].quantile(.75)-file[\"Won_By\"].quantile(.25))\n",
    "\n",
    "plt.boxplot(file[\"Won_By\"])\n",
    "plt.show()\n"
   ]
  },
  {
   "cell_type": "code",
   "execution_count": 78,
   "metadata": {},
   "outputs": [
    {
     "name": "stdout",
     "output_type": "stream",
     "text": [
      "Min of Man_Of_The_Match_Id 1.0\n",
      "Max of Man_Of_The_Match_Id 460.0\n",
      "Var of Man_Of_The_Match_Id 13760.449875646858\n",
      "Standard Deviation of Man_Of_The_Match_Id 117.30494395227704\n",
      "Median of Man_Of_The_Match_Id 105.5\n",
      "Q2 of Man_Of_The_Match_Id 105.5\n",
      "50th percentile of Man_Of_The_Match_Id 105.5\n",
      "75th percentile of Man_Of_The_Match_Id 209.5\n",
      "25th percentile of Man_Of_The_Match_Id 40.0\n",
      "InterQuartileRange of Man_Of_The_Match_Id 169.5\n"
     ]
    },
    {
     "data": {
      "image/png": "[encoded data removed]",
      "text/plain": [
       "<Figure size 640x480 with 1 Axes>"
      ]
     },
     "metadata": {},
     "output_type": "display_data"
    }
   ],
   "source": [
    "#Man_Of_The_Match_Id:\n",
    "print(\"Min of Man_Of_The_Match_Id\",file[\"Man_Of_The_Match_Id\"].min())\n",
    "print(\"Max of Man_Of_The_Match_Id\",file[\"Man_Of_The_Match_Id\"].max())\n",
    "print(\"Var of Man_Of_The_Match_Id\",file[\"Man_Of_The_Match_Id\"].var())\n",
    "print(\"Standard Deviation of Man_Of_The_Match_Id\",file[\"Man_Of_The_Match_Id\"].std())\n",
    "print(\"Median of Man_Of_The_Match_Id\",file[\"Man_Of_The_Match_Id\"].median())\n",
    "print(\"Q2 of Man_Of_The_Match_Id\",file[\"Man_Of_The_Match_Id\"].quantile(.50))\n",
    "print(\"50th percentile of Man_Of_The_Match_Id\",file[\"Man_Of_The_Match_Id\"].quantile(.50))\n",
    "print(\"75th percentile of Man_Of_The_Match_Id\",file[\"Man_Of_The_Match_Id\"].quantile(.75))\n",
    "print(\"25th percentile of Man_Of_The_Match_Id\",file[\"Man_Of_The_Match_Id\"].quantile(.25))\n",
    "print(\"InterQuartileRange of Man_Of_The_Match_Id\",file[\"Man_Of_The_Match_Id\"].quantile(.75)-file[\"Man_Of_The_Match_Id\"].quantile(.25))\n",
    "\n",
    "plt.boxplot(file[\"Man_Of_The_Match_Id\"])\n",
    "plt.show()\n"
   ]
  },
  {
   "cell_type": "markdown",
   "metadata": {},
   "source": [
    "7. Check and print skewness of following columns\n",
    "\n",
    "* Season_Id\n",
    "* Toss_Winner_Id\n",
    "* Match_Winner_Id\n",
    "* Won_By\n",
    "* Man_Of_The_Match_Id"
   ]
  },
  {
   "cell_type": "code",
   "execution_count": 96,
   "metadata": {},
   "outputs": [
    {
     "name": "stdout",
     "output_type": "stream",
     "text": [
      "Match id is:  0.6250189210051867\n",
      "Median of Match_id is:  548353.0\n",
      "Mean of Match_id is:  591635.9636048527\n",
      "\n",
      "\n",
      "TOss Winner id is :  0.510311378395175\n",
      "Median of Toss_Winner_Id is:  5.0\n",
      "Mean of Toss_Winner_Id is:  5.192374350086655\n",
      "\n",
      "\n",
      "Match Winner Id:  0.6599845966401926\n",
      "Median of Toss_Winner_Id is:  548353.0\n",
      "Mean of Toss_Winner_Id is:  591635.9636048527\n",
      "\n",
      "\n",
      "Won By :  2.7136259709945647\n",
      "Median of Won_By is:  8.0\n",
      "Mean of Won_By is:  17.350352112676056\n",
      "\n",
      "\n",
      "Man of the Match id :  0.8163710200696908\n",
      "Median of Man_Of_The_Match_Id is:  105.5\n",
      "Mean of Man_Of_The_Match_Id is:  139.7822299651568\n"
     ]
    }
   ],
   "source": [
    "\n",
    "print(\"Match id is: \",file['Match_Id'].skew())\n",
    "print(\"Median of Match_id is: \",file['Match_Id'].median())\n",
    "print(\"Mean of Match_id is: \",file['Match_Id'].mean())\n",
    "\n",
    "print()\n",
    "print()\n",
    "print(\"TOss Winner id is : \",file['Toss_Winner_Id'].skew())\n",
    "print(\"Median of Toss_Winner_Id is: \",file['Toss_Winner_Id'].median())\n",
    "print(\"Mean of Toss_Winner_Id is: \",file['Toss_Winner_Id'].mean())\n",
    "\n",
    "print()\n",
    "print()\n",
    "print(\"Match Winner Id: \",file['Match_Winner_Id'].skew())\n",
    "print(\"Median of Toss_Winner_Id is: \",file['Match_Id'].median())\n",
    "print(\"Mean of Toss_Winner_Id is: \",file['Match_Id'].mean())\n",
    "\n",
    "print()\n",
    "print()\n",
    "print(\"Won By : \",file['Won_By'].skew())\n",
    "print(\"Median of Won_By is: \",file['Won_By'].median())\n",
    "print(\"Mean of Won_By is: \",file['Won_By'].mean())\n",
    "\n",
    "print()\n",
    "print()\n",
    "print(\"Man of the Match id : \",file['Man_Of_The_Match_Id'].skew())\n",
    "print(\"Median of Man_Of_The_Match_Id is: \",file['Man_Of_The_Match_Id'].median())\n",
    "print(\"Mean of Man_Of_The_Match_Id is: \",file['Man_Of_The_Match_Id'].mean())"
   ]
  },
  {
   "cell_type": "code",
   "execution_count": null,
   "metadata": {},
   "outputs": [],
   "source": []
  },
  {
   "cell_type": "markdown",
   "metadata": {},
   "source": [
    "8. Creat bar chart or histogram of vanuename column to show occurance of each vanue"
   ]
  },
  {
   "cell_type": "code",
   "execution_count": 82,
   "metadata": {},
   "outputs": [
    {
     "data": {
      "text/plain": [
       "0                                 M Chinnaswamy Stadium\n",
       "1            Punjab Cricket Association Stadium, Mohali\n",
       "2                                      Feroz Shah Kotla\n",
       "3                                      Wankhede Stadium\n",
       "4                                          Eden Gardens\n",
       "                             ...                       \n",
       "572    Shaheed Veer Narayan Singh International Stadium\n",
       "573                               M Chinnaswamy Stadium\n",
       "574                                    Feroz Shah Kotla\n",
       "575                                    Feroz Shah Kotla\n",
       "576                               M Chinnaswamy Stadium\n",
       "Name: Venue_Name, Length: 577, dtype: object"
      ]
     },
     "execution_count": 82,
     "metadata": {},
     "output_type": "execute_result"
    }
   ],
   "source": [
    "file['Venue_Name']"
   ]
  },
  {
   "cell_type": "code",
   "execution_count": 98,
   "metadata": {},
   "outputs": [
    {
     "data": {
      "text/plain": [
       "Text(0, 0.5, 'Frequency')"
      ]
     },
     "execution_count": 98,
     "metadata": {},
     "output_type": "execute_result"
    },
    {
     "data": {
      "image/png": "[encoded data removed]",
      "text/plain": [
       "<Figure size 1400x800 with 1 Axes>"
      ]
     },
     "metadata": {},
     "output_type": "display_data"
    }
   ],
   "source": [
    "ax = file['Venue_Name'].value_counts().plot(kind='bar',\n",
    "                                    figsize=(14,8),\n",
    "                                    title=\" Venue Names Occuring Match\",color=\"beige\")\n",
    "ax.set_xlabel(\"Venue_Name\")\n",
    "ax.set_ylabel(\"Frequency\")"
   ]
  }
 ],
 "metadata": {
  "kernelspec": {
   "display_name": "Python 3 (ipykernel)",
   "language": "python",
   "name": "python3"
  },
  "language_info": {
   "codemirror_mode": {
    "name": "ipython",
    "version": 3
   },
   "file_extension": ".py",
   "mimetype": "text/x-python",
   "name": "python",
   "nbconvert_exporter": "python",
   "pygments_lexer": "ipython3",
   "version": "3.11.4"
  }
 },
 "nbformat": 4,
 "nbformat_minor": 2
}
